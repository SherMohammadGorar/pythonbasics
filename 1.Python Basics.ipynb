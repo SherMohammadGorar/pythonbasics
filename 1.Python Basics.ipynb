{
 "cells": [
  {
   "cell_type": "markdown",
   "metadata": {},
   "source": [
    "### Python Comments\n",
    "Comments are used to expalin Python code.\n",
    "Comments can be used to make the code more readable.\n",
    "Comments can be used to prevent execution when testing code."
   ]
  },
  {
   "cell_type": "raw",
   "metadata": {},
   "source": [
    "### this is a single line comment\n",
    "#Using single line comment you make multiline comment because python doesnot support mutliline comment\n",
    "\"\"\"\n",
    "This is a comment \n",
    "written in \n",
    "more than just one line\n",
    "\"\"\""
   ]
  },
  {
   "cell_type": "raw",
   "metadata": {},
   "source": [
    "Print function is used to display the output as in other languages"
   ]
  },
  {
   "cell_type": "code",
   "execution_count": 1,
   "metadata": {},
   "outputs": [
    {
     "name": "stdout",
     "output_type": "stream",
     "text": [
      "Python is one of the most advanced language\n"
     ]
    }
   ],
   "source": [
    "print(\"Python is one of the most advanced language\");"
   ]
  },
  {
   "cell_type": "markdown",
   "metadata": {},
   "source": [
    "### Creating Variables\n",
    "    Variables are containers for storing data values.\n",
    "    Unlike other programming languages, Python has no command for declaring a variable.\n",
    "    A variable is created the moment you first assign a value to it.\n",
    "    Variables do not need to be declared with any particular type and can even change type after they have  been   set."
   ]
  },
  {
   "cell_type": "code",
   "execution_count": 2,
   "metadata": {},
   "outputs": [
    {
     "name": "stdout",
     "output_type": "stream",
     "text": [
      "12\n",
      "Sher Mohammad Gorar\n",
      "12.12\n"
     ]
    }
   ],
   "source": [
    "x=12\n",
    "y=\"Sher Mohammad Gorar\"\n",
    "print(x)\n",
    "print(y)\n",
    "\n",
    "y=12.12\n",
    "print(y)"
   ]
  },
  {
   "cell_type": "raw",
   "metadata": {},
   "source": [
    "String variables can be declared either by using single or double quotes:"
   ]
  },
  {
   "cell_type": "code",
   "execution_count": 3,
   "metadata": {},
   "outputs": [
    {
     "name": "stdout",
     "output_type": "stream",
     "text": [
      "Sher Mohammad Gorar\n",
      "Sher Mohammad Gorar\n"
     ]
    }
   ],
   "source": [
    "x=\"Sher Mohammad Gorar\"\n",
    "y='Sher Mohammad Gorar'\n",
    "print(x)\n",
    "print(y)"
   ]
  },
  {
   "cell_type": "markdown",
   "metadata": {},
   "source": [
    "### Variable Names\n",
    "    A variable can have a short name (like x and y) or a more descripitive name (age, carname, total_volume).\n",
    "    Rules for Python variables:\n",
    "        A variable name must start with a letter or the underscore character\n",
    "        A variable name cannot start with a number \n",
    "        A variable name can only contain alpha-numeric characters and underscores(A-Z,0-9m,and _)\n",
    "        Variable names are case-sensitive (ages,Age,AGE are three different variables)"
   ]
  },
  {
   "cell_type": "code",
   "execution_count": 4,
   "metadata": {},
   "outputs": [],
   "source": [
    "#legal variable names:\n",
    "myname=\"Sher Mohammad Gorar\"\n",
    "my_name=\"Sher Mohammad Gorar\"\n",
    "_my_name=\"Sher Mohammad Gorar\"\n",
    "myName=\"Sher Mohammad Gorar\"\n",
    "MYNAME=\"Sher Mohammad Gorar\"\n",
    "myname1=\"Sher Mohammad Gorar\"\n",
    "#Illegal variable names:\n",
    "#2myname=\"Sher Mohammad Gorar\"\n",
    "#my-var=\"Sher Mohammad Gorar\"\n",
    "#my var=\"Sher Mohammad Gorar\""
   ]
  },
  {
   "cell_type": "code",
   "execution_count": 5,
   "metadata": {},
   "outputs": [
    {
     "name": "stdout",
     "output_type": "stream",
     "text": [
      "2\n",
      "Pen Paper Chair Computer\n",
      "4 8\n",
      "16.4 32.2\n"
     ]
    }
   ],
   "source": [
    "#Assigning Value to Single Variable\n",
    "integer_0=2\n",
    "\n",
    "#Assigning Values to Multiple Variables\n",
    "w,x,y,z=\"Pen\",\"Paper\",\"Chair\",\"Computer\"\n",
    "integer_1,integer_2=4,8\n",
    "floatpoint1,floatpoint2= 16.4,32.2\n",
    "\n",
    "print(integer_0)\n",
    "print(w,x,y,z)\n",
    "print(integer_1,integer_2)\n",
    "print(floatpoint1,floatpoint2)"
   ]
  },
  {
   "cell_type": "code",
   "execution_count": 6,
   "metadata": {},
   "outputs": [
    {
     "name": "stdout",
     "output_type": "stream",
     "text": [
      "More Pain More Gain More Pain More Gain More Pain More Gain More Pain More Gain\n"
     ]
    }
   ],
   "source": [
    "#Assigning Same Value to Multiple Variables in One Line:\n",
    "w=x=y=z=\"More Pain More Gain\"\n",
    "print(w,x,y,z)"
   ]
  },
  {
   "cell_type": "raw",
   "metadata": {},
   "source": [
    "Output Variables (Print Function)\n",
    "    To combine both text and a variable, Python uses the + character:"
   ]
  },
  {
   "cell_type": "code",
   "execution_count": 7,
   "metadata": {},
   "outputs": [
    {
     "name": "stdout",
     "output_type": "stream",
     "text": [
      "Favourtie Quotes,More Pain More Gain\n"
     ]
    }
   ],
   "source": [
    "print(\"Favourtie Quotes,\" + w)"
   ]
  },
  {
   "cell_type": "raw",
   "metadata": {},
   "source": [
    "You can also use the + character to add a variable to another variable:"
   ]
  },
  {
   "cell_type": "code",
   "execution_count": 8,
   "metadata": {},
   "outputs": [
    {
     "name": "stdout",
     "output_type": "stream",
     "text": [
      "14\n",
      "More Pain More GainMore Pain More GainMore Pain More GainMore Pain More Gain\n"
     ]
    }
   ],
   "source": [
    "sum_of_int=integer_0+integer_1+integer_2\n",
    "material=w+x+y+z\n",
    "\n",
    "print(sum_of_int)\n",
    "print(material)\n"
   ]
  },
  {
   "cell_type": "raw",
   "metadata": {},
   "source": [
    "Global Variables\n",
    "    Variables that are created outside of a function (as in all of the examples above) are known as global variables.\n",
    "    Global variables can be used by everyone, both inside of functions and outside."
   ]
  },
  {
   "cell_type": "code",
   "execution_count": 9,
   "metadata": {},
   "outputs": [
    {
     "name": "stdout",
     "output_type": "stream",
     "text": [
      "Sher Mohammad Gorar\n"
     ]
    }
   ],
   "source": [
    "def myfuncname():\n",
    "    print(myname)\n",
    "myfuncname()"
   ]
  },
  {
   "cell_type": "raw",
   "metadata": {},
   "source": [
    "If you create a variable with the same name inside a function, this variable will be local, and can only be used inside the function. The global variable with the same name will remain as it was , global and with the original value."
   ]
  },
  {
   "cell_type": "code",
   "execution_count": 10,
   "metadata": {},
   "outputs": [
    {
     "name": "stdout",
     "output_type": "stream",
     "text": [
      "Sheraz\n"
     ]
    }
   ],
   "source": [
    "def myfunctname():\n",
    "    myname=\"Sheraz\"\n",
    "    print(myname)\n",
    "myfunctname()"
   ]
  },
  {
   "cell_type": "code",
   "execution_count": 11,
   "metadata": {},
   "outputs": [
    {
     "name": "stdout",
     "output_type": "stream",
     "text": [
      "Sher Mohammad\n"
     ]
    }
   ],
   "source": [
    "def myfunction():\n",
    "    global myname\n",
    "    myname=\"Sher Mohammad\"\n",
    "myfunction()\n",
    "\n",
    "print(myname)"
   ]
  },
  {
   "cell_type": "code",
   "execution_count": 12,
   "metadata": {},
   "outputs": [
    {
     "ename": "NameError",
     "evalue": "name 'vint1' is not defined",
     "output_type": "error",
     "traceback": [
      "\u001b[0;31m---------------------------------------------------------------------------\u001b[0m",
      "\u001b[0;31mNameError\u001b[0m                                 Traceback (most recent call last)",
      "\u001b[0;32m<ipython-input-12-ad62b3c8be3d>\u001b[0m in \u001b[0;36m<module>\u001b[0;34m\u001b[0m\n\u001b[1;32m      4\u001b[0m \u001b[0mvlstring1\u001b[0m\u001b[0;34m=\u001b[0m\u001b[0;34m'12345678'\u001b[0m\u001b[0;34m\u001b[0m\u001b[0;34m\u001b[0m\u001b[0m\n\u001b[1;32m      5\u001b[0m \u001b[0mvint1\u001b[0m\u001b[0;34m:\u001b[0m\u001b[0;36m12\u001b[0m\u001b[0;34m\u001b[0m\u001b[0;34m\u001b[0m\u001b[0m\n\u001b[0;32m----> 6\u001b[0;31m \u001b[0mprint\u001b[0m\u001b[0;34m(\u001b[0m\u001b[0mvint1\u001b[0m\u001b[0;34m)\u001b[0m\u001b[0;34m\u001b[0m\u001b[0;34m\u001b[0m\u001b[0m\n\u001b[0m",
      "\u001b[0;31mNameError\u001b[0m: name 'vint1' is not defined"
     ]
    }
   ],
   "source": [
    "vstring=\"Hello Python, \"\n",
    "name_string='Sher Mohammad \\n '\n",
    "caste_string='Gorar'\n",
    "vlstring1='12345678'\n",
    "vint1:12\n",
    "print(vint1)"
   ]
  },
  {
   "cell_type": "code",
   "execution_count": 16,
   "metadata": {},
   "outputs": [
    {
     "name": "stdout",
     "output_type": "stream",
     "text": [
      "1 True 0 False 12 14 12.0 12\n"
     ]
    }
   ],
   "source": [
    "#Type Casting\n",
    "vint3=int(12.4)\n",
    "vint4=int('14')\n",
    "\n",
    "vfloat3=float(12)\n",
    "\n",
    "vstring2=str(vint3)\n",
    "\n",
    "vint5=int(True)\n",
    "vbool1=bool(1)\n",
    "\n",
    "vint6=int(False)\n",
    "vbool2=bool(0)\n",
    "\n",
    "\n",
    "\n",
    "print(vint5,vbool1,vint6,vbool2, vint3,vint4,vfloat3,vstring2)"
   ]
  },
  {
   "cell_type": "code",
   "execution_count": 18,
   "metadata": {},
   "outputs": [
    {
     "data": {
      "text/plain": [
       "int"
      ]
     },
     "execution_count": 18,
     "metadata": {},
     "output_type": "execute_result"
    }
   ],
   "source": [
    "#type function\n",
    "type(vint3)\n",
    "#by inserting differnt datatypes values, you can know the type of variable."
   ]
  },
  {
   "cell_type": "code",
   "execution_count": 19,
   "metadata": {},
   "outputs": [
    {
     "data": {
      "text/plain": [
       "16"
      ]
     },
     "execution_count": 19,
     "metadata": {},
     "output_type": "execute_result"
    }
   ],
   "source": [
    "#to return  string lenghth\n",
    "len(name_string)"
   ]
  },
  {
   "cell_type": "code",
   "execution_count": 20,
   "metadata": {},
   "outputs": [
    {
     "name": "stdout",
     "output_type": "stream",
     "text": [
      "Sher Mohammad \n",
      " Sher Mohammad \n",
      " Sher Mohammad \n",
      " \n",
      "Sher Mohammad \n",
      " Gorar\n",
      "Hello Python, Sher Mohammad \n",
      " \n"
     ]
    }
   ],
   "source": [
    "#Tuple Ruplication\n",
    "print(3*name_string)\n",
    "#String Concatenation\n",
    "vstring=vstring+name_string\n",
    "print(name_string + caste_string)\n",
    "print(vstring)"
   ]
  },
  {
   "cell_type": "code",
   "execution_count": 21,
   "metadata": {},
   "outputs": [
    {
     "name": "stdout",
     "output_type": "stream",
     "text": [
      "Python is an interpreted, high-level, general-purpose programming language \n",
      " Created by Guido van Rossum\n",
      " \t and first released in \\ 1991.\n"
     ]
    }
   ],
   "source": [
    "#Escape Sequences\n",
    "print(\"Python is an interpreted, high-level, general-purpose programming language \\n Created by Guido van Rossum\")\n",
    "print(' \\t and first released in \\\\ 1991.')"
   ]
  },
  {
   "cell_type": "code",
   "execution_count": 22,
   "metadata": {},
   "outputs": [
    {
     "name": "stdout",
     "output_type": "stream",
     "text": [
      "SHER MOHAMMAD \n",
      " \n",
      "sher mohammad \n",
      " \n",
      "Sheraaz \n",
      " \n"
     ]
    },
    {
     "data": {
      "text/plain": [
       "9"
      ]
     },
     "execution_count": 22,
     "metadata": {},
     "output_type": "execute_result"
    }
   ],
   "source": [
    "#String Methods\n",
    "print(name_string.upper())\n",
    "print(name_string.lower())\n",
    "print(name_string.replace('Sher Mohammad','Sheraaz'))\n",
    "name_string.find('m')"
   ]
  },
  {
   "cell_type": "code",
   "execution_count": 23,
   "metadata": {},
   "outputs": [
    {
     "data": {
      "text/plain": [
       "0"
      ]
     },
     "execution_count": 23,
     "metadata": {},
     "output_type": "execute_result"
    }
   ],
   "source": [
    "name_string.find('Sher')\n"
   ]
  },
  {
   "cell_type": "code",
   "execution_count": 24,
   "metadata": {},
   "outputs": [
    {
     "data": {
      "text/plain": [
       "-1"
      ]
     },
     "execution_count": 24,
     "metadata": {},
     "output_type": "execute_result"
    }
   ],
   "source": [
    "name_string.find('p')"
   ]
  },
  {
   "cell_type": "code",
   "execution_count": 25,
   "metadata": {},
   "outputs": [
    {
     "name": "stdout",
     "output_type": "stream",
     "text": [
      "Sh\n"
     ]
    }
   ],
   "source": [
    "print(name_string[0:2])"
   ]
  },
  {
   "cell_type": "code",
   "execution_count": 26,
   "metadata": {},
   "outputs": [
    {
     "name": "stdout",
     "output_type": "stream",
     "text": [
      "1357\n"
     ]
    }
   ],
   "source": [
    "print(vlstring1[::2])"
   ]
  },
  {
   "cell_type": "code",
   "execution_count": null,
   "metadata": {},
   "outputs": [],
   "source": []
  }
 ],
 "metadata": {
  "kernelspec": {
   "display_name": "Python 3",
   "language": "python",
   "name": "python3"
  },
  "language_info": {
   "codemirror_mode": {
    "name": "ipython",
    "version": 3
   },
   "file_extension": ".py",
   "mimetype": "text/x-python",
   "name": "python",
   "nbconvert_exporter": "python",
   "pygments_lexer": "ipython3",
   "version": "3.7.4"
  }
 },
 "nbformat": 4,
 "nbformat_minor": 2
}
